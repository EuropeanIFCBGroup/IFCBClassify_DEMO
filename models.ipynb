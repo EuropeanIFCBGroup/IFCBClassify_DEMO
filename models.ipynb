{
 "cells": [
  {
   "cell_type": "markdown",
   "id": "fa85e39b",
   "metadata": {},
   "source": [
    "Choosing the Model\n",
    "\n",
    "\n",
    "| Architecture | Model Name | URL | Input Dimension | Best Weighted F1 |  \n",
    "|:--------:|:--------:|:--------:|:--------:|:--------:|\n",
    "|  AlexNet   |  alexnet  |  https://docs.pytorch.org/vision/main/models/alexnet.html  | 227 x 227  | 0.941238403320312 |\n",
    "|  ConvNeXt   |  convnext_tiny  |  https://docs.pytorch.org/vision/main/models/convnext.html  | 224 x 224 | 0.9555093050003052 |\n",
    "|  ConvNeXt   |  convnext_small  |  https://docs.pytorch.org/vision/main/models/convnext.html  | 224 x 224 | 0.96864253282547 |\n",
    "|  ConvNeXt   |  convnext_base  |  https://docs.pytorch.org/vision/main/models/convnext.html  | 224 x 224 | 0.9700095653533936 |\n",
    "|  ConvNeXt   |  convnext_large  |  https://docs.pytorch.org/vision/main/models/convnext.html  | 224 x 224 | 0.970929265022277 |\n",
    "|  DenseNet   |  densenet121   |  https://docs.pytorch.org/vision/main/models/densenet.html   | 224 x 224 | 0.9664167761802673 |\n",
    "|  DenseNet   |  densenet161   |  https://docs.pytorch.org/vision/main/models/densenet.html   | 224 x 224 | 0.972168087959289 |\n",
    "|  DenseNet   |  densenet169   |  https://docs.pytorch.org/vision/main/models/densenet.html   | 224 x 224 | 0.967216432094574 |\n",
    "|  DenseNet   |  densenet201   |  https://docs.pytorch.org/vision/main/models/densenet.html   | 224 x 224 | 0.9725233316421509 |\n",
    "|  EfficientNet   |  NOT IMPLEMENTED  |  https://docs.pytorch.org/vision/main/models/efficientnet.html  | 224 x 224 |  |\n",
    "|  EfficientNet_V2   | efficientnet_v2_s   |  https://docs.pytorch.org/vision/main/models/efficientnetv2.html   | 224 x 224 | 0.965110182762146 |\n",
    "|  EfficientNet_V2   | efficientnet_v2_m   |  https://docs.pytorch.org/vision/main/models/efficientnetv2.html   | 224 x 224 | 0.9712038040161133 |\n",
    "|  EfficientNet_V2   | efficientnet_v2_l   |  https://docs.pytorch.org/vision/main/models/efficientnetv2.html   | 224 x 224 | 0.9712055325508118 |\n",
    "|  GoogLeNet | googlenet | https://docs.pytorch.org/vision/main/models/googlenet.html | 224 x 224 | 0.9639056921005249 |\n",
    "|  Inception V3 | inception_v3 | https://docs.pytorch.org/vision/main/models/inception.html | 299 x 299 | 0.9649871587753296 |\n",
    "|  MaxVit | maxvit_t | https://docs.pytorch.org/vision/main/models/maxvit.html | 224 x 224 | 0.9736772775650024 |\n",
    "|  MNASNet | mnasnet0_5 | https://docs.pytorch.org/vision/main/models/mnasnet.html |  | 0.9502278566360474 |\n",
    "|  MNASNet | mnasnet0_75 | https://docs.pytorch.org/vision/main/models/mnasnet.html |  |0.957962155342102 |\n",
    "|  MNASNet | mnasnet1_0 | https://docs.pytorch.org/vision/main/models/mnasnet.html |  | 0.9604582786560059 |\n",
    "|  MNASNet | mnasnet1_3 | https://docs.pytorch.org/vision/main/models/mnasnet.html |  | 0.958934307098388 |\n",
    "|  MobileNet V2 | NOT IMPLEMENTED | https://docs.pytorch.org/vision/main/models/mobilenetv2.html |  |  |\n",
    "|  MobileNet V3   |  mobilenet_v3_large  |  https://docs.pytorch.org/vision/main/models/mobilenetv3.html  | 224 | 0.9657618999481201 |\n",
    "|  MobileNet V3   |  mobilenet_v3_small  |  https://docs.pytorch.org/vision/main/models/mobilenetv3.html  | 224 | 0.9596269130706787 |\n",
    "|  RegNet   |  NOT IMPLEMENTED  |  https://docs.pytorch.org/vision/main/models/regnet.html  |  |  |\n",
    "|  ResNet  |  resnet18   |  https://docs.pytorch.org/vision/main/models/resnet.html   | 224 x 224 | 0.9436510801315308 |\n",
    "|  ResNet  |  resnet34   |  https://docs.pytorch.org/vision/main/models/resnet.html   | 224 x 224 | 0.9442339539527893 |\n",
    "|  ResNet  |  resnet50   |  https://docs.pytorch.org/vision/main/models/resnet.html   | 224 x 224 | 0.9589242935180664 |\n",
    "|  ResNet  |  resnet101   |  https://docs.pytorch.org/vision/main/models/resnet.html   | 224 x 224 | 0.9587799310684204 |\n",
    "|  ResNet  |  resnet152   |  https://docs.pytorch.org/vision/main/models/resnet.html   | 224 x 224 | 0.9612991809844971 |\n",
    "|  ResNeXt   |  resnext50_32x4d |  https://docs.pytorch.org/vision/main/models/resnext.html   |  | 0.9716836810112 |\n",
    "|  ResNeXt   |  resnext50_32x8d |  https://docs.pytorch.org/vision/main/models/resnext.html   |  | 0.9716836810112 |\n",
    "|  ResNeXt   |  resnext50_64x4d |  https://docs.pytorch.org/vision/main/models/resnext.html   |  | 0.9716836810112 |\n",
    "|  ShuffleNet V2 | shufflenet_v2_x0_5 | https://docs.pytorch.org/vision/main/models/shufflenetv2.html | 224 x 224 | 0.9382433891296387 |\n",
    "|  ShuffleNet V2 | shufflenet_v2_x1_0 | https://docs.pytorch.org/vision/main/models/shufflenetv2.html | 224 x 224 | 0.9573751091957092 |\n",
    "|  ShuffleNet V2 | shufflenet_v2_x1_5 | https://docs.pytorch.org/vision/main/models/shufflenetv2.html | 224 x 224 | 0.9634249210357666 |\n",
    "|  ShuffleNet V2 | shufflenet_v2_x2_0 | https://docs.pytorch.org/vision/main/models/shufflenetv2.html | 224 x 224 | 0.9658886194229126 |\n",
    "|  SqueezeNet | squeezenet1_0 | https://docs.pytorch.org/vision/main/models/squeezenet.html|  |  |\n",
    "|  SqueezeNet | squeezenet1_1 | https://docs.pytorch.org/vision/main/models/squeezenet.html|  |  |\n",
    "|  SwinTransformer | swin_t (NOT IMPLEMENTED) | https://docs.pytorch.org/vision/main/models/swin_transformer.html |  |  |\n",
    "|  SwinTransformer | swin_s (NOT IMPLEMENTED)| https://docs.pytorch.org/vision/main/models/swin_transformer.html |  |  |\n",
    "|  SwinTransformer | swin_b (NOT IMPLEMENTED)| https://docs.pytorch.org/vision/main/models/swin_transformer.html |  |  |\n",
    "|  SwinTransformer | swin_v2_t | https://docs.pytorch.org/vision/main/models/swin_transformer.html |  | 0.9668169617652893 |\n",
    "|  SwinTransformer | swin_v2_s | https://docs.pytorch.org/vision/main/models/swin_transformer.html |  | 0.9671509265899658 |\n",
    "|  SwinTransformer | swin_v2_b | https://docs.pytorch.org/vision/main/models/swin_transformer.html |  | 0.9662113189697266 |\n",
    "|  VGG | vgg11 | https://docs.pytorch.org/vision/main/models/vgg.html | 224 x 224 | 0.8617271780967712 |\n",
    "|  VGG | vgg11_bn | https://docs.pytorch.org/vision/main/models/vgg.html | 224 x 224 | 0.952965974807739 |\n",
    "|  VGG | vgg13 | https://docs.pytorch.org/vision/main/models/vgg.html | 224 x 224 | 0.8731116056442261 |\n",
    "|  VGG | vgg13_bn | https://docs.pytorch.org/vision/main/models/vgg.html | 224 x 224 | 0.954585015773773 |\n",
    "|  VGG | vgg16 | https://docs.pytorch.org/vision/main/models/vgg.html | 224 x 224 | 0.9465804696083069 |\n",
    "|  VGG | vgg16_bn | https://docs.pytorch.org/vision/main/models/vgg.html | 224 x 224 | 0.957045435905456 |\n",
    "|  VGG | vgg19 | https://docs.pytorch.org/vision/main/models/vgg.html | 224 x 224 | 0.9446864128112793 |\n",
    "|  VGG | vgg19_bn | https://docs.pytorch.org/vision/main/models/vgg.html | 224 x 224 | 0.95621925592422 |\n",
    "|  Vision Transformer| vit_b_16 | https://docs.pytorch.org/vision/main/models/vision_transformer.html |  | 0.9531799554824829 |\n",
    "|  Vision Transformer| vit_b_32 | https://docs.pytorch.org/vision/main/models/vision_transformer.html |  | 0.9189364910125732 |\n",
    "|  Vision Transformer| vit_l_16 | https://docs.pytorch.org/vision/main/models/vision_transformer.html |  | 0.954062342643737 |\n",
    "|  Vision Transformer| vit_l_32 | https://docs.pytorch.org/vision/main/models/vision_transformer.html |  | 0.938732504844665 |\n",
    "|  Vision Transformer| vit_h_14 | https://docs.pytorch.org/vision/main/models/vision_transformer.html |  |  |\n",
    "|  Wide ResNet| wide_resnet50_2 | hhttps://docs.pytorch.org/vision/main/models/wide_resnet.html | Y | 0.9676463603973389 |\n",
    "|  Wide ResNet| wide_resnet101_2 | hhttps://docs.pytorch.org/vision/main/models/wide_resnet.html | Y | 0.9688348770141602 |\n",
    "\n",
    "Models were trained on the same dataset with a batch size of 64 and a learning rate of 0.0001 (except for ResNet which was 0.001)"
   ]
  },
  {
   "cell_type": "markdown",
   "id": "b08515b4",
   "metadata": {},
   "source": []
  },
  {
   "cell_type": "markdown",
   "id": "1f99929a",
   "metadata": {},
   "source": []
  },
  {
   "cell_type": "markdown",
   "id": "1d273d0b",
   "metadata": {},
   "source": []
  },
  {
   "cell_type": "markdown",
   "id": "1cc8659f",
   "metadata": {},
   "source": []
  }
 ],
 "metadata": {
  "language_info": {
   "name": "python"
  }
 },
 "nbformat": 4,
 "nbformat_minor": 5
}
